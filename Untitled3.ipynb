{
 "cells": [
  {
   "cell_type": "code",
   "execution_count": 6,
   "metadata": {},
   "outputs": [
    {
     "ename": "ModuleNotFoundError",
     "evalue": "No module named 'shapely.figures'",
     "output_type": "error",
     "traceback": [
      "\u001b[0;31m---------------------------------------------------------------------------\u001b[0m",
      "\u001b[0;31mModuleNotFoundError\u001b[0m                       Traceback (most recent call last)",
      "\u001b[0;32m<ipython-input-6-a4967c49aae6>\u001b[0m in \u001b[0;36m<module>\u001b[0;34m\u001b[0m\n\u001b[1;32m      4\u001b[0m \u001b[0;32mfrom\u001b[0m \u001b[0mdescartes\u001b[0m\u001b[0;34m.\u001b[0m\u001b[0mpatch\u001b[0m \u001b[0;32mimport\u001b[0m \u001b[0mPolygonPatch\u001b[0m\u001b[0;34m\u001b[0m\u001b[0;34m\u001b[0m\u001b[0m\n\u001b[1;32m      5\u001b[0m \u001b[0;34m\u001b[0m\u001b[0m\n\u001b[0;32m----> 6\u001b[0;31m \u001b[0;32mfrom\u001b[0m \u001b[0mshapely\u001b[0m\u001b[0;34m.\u001b[0m\u001b[0mfigures\u001b[0m \u001b[0;32mimport\u001b[0m \u001b[0mBLUE\u001b[0m\u001b[0;34m,\u001b[0m \u001b[0mSIZE\u001b[0m\u001b[0;34m,\u001b[0m \u001b[0mset_limits\u001b[0m\u001b[0;34m,\u001b[0m \u001b[0mplot_coords\u001b[0m\u001b[0;34m,\u001b[0m \u001b[0mcolor_isvalid\u001b[0m\u001b[0;34m\u001b[0m\u001b[0;34m\u001b[0m\u001b[0m\n\u001b[0m\u001b[1;32m      7\u001b[0m \u001b[0;34m\u001b[0m\u001b[0m\n",
      "\u001b[0;31mModuleNotFoundError\u001b[0m: No module named 'shapely.figures'"
     ]
    }
   ],
   "source": [
    "from matplotlib import pyplot\n",
    "from matplotlib.patches import Circle\n",
    "from shapely.geometry import Polygon\n",
    "from descartes.patch import PolygonPatch\n",
    "\n",
    "from shapely.figures import BLUE, SIZE, set_limits, plot_coords, color_isvalid\n",
    "    "
   ]
  },
  {
   "cell_type": "code",
   "execution_count": null,
   "metadata": {},
   "outputs": [],
   "source": [
    "fig = pyplot.figure(1, figsize=SIZE, dpi=90)\n",
    "\n",
    "# 3: invalid polygon, ring touch along a line\n",
    "ax = fig.add_subplot(121)\n",
    "\n",
    "ext = [(0, 0), (0, 2), (2, 2), (2, 0), (0, 0)]\n",
    "int = [(0.5, 0), (1.5, 0), (1.5, 1), (0.5, 1), (0.5, 0)]\n",
    "polygon = Polygon(ext, [int])\n",
    "\n",
    "plot_coords(ax, polygon.interiors[0])\n",
    "plot_coords(ax, polygon.exterior)\n",
    "\n",
    "patch = PolygonPatch(polygon, facecolor=color_isvalid(polygon), edgecolor=color_isvalid(polygon, valid=BLUE), alpha=0.5, zorder=2)\n",
    "ax.add_patch(patch)\n",
    "\n",
    "ax.set_title('c) invalid')\n",
    "\n",
    "set_limits(ax, -1, 3, -1, 3)\n",
    "\n",
    "#4: invalid self-touching ring\n",
    "ax = fig.add_subplot(122)\n",
    "ext = [(0, 0), (0, 2), (2, 2), (2, 0), (0, 0)]\n",
    "int_1 = [(0.5, 0.25), (1.5, 0.25), (1.5, 1.25), (0.5, 1.25), (0.5, 0.25)]\n",
    "int_2 = [(0.5, 1.25), (1, 1.25), (1, 1.75), (0.5, 1.75)]\n",
    "# int_2 = [\n",
    "polygon = Polygon(ext, [int_1, int_2])\n",
    "\n",
    "plot_coords(ax, polygon.interiors[0])\n",
    "plot_coords(ax, polygon.interiors[1])\n",
    "plot_coords(ax, polygon.exterior)\n",
    "\n",
    "patch = PolygonPatch(polygon, facecolor=color_isvalid(polygon), edgecolor=color_isvalid(polygon, valid=BLUE), alpha=0.5, zorder=2)\n",
    "ax.add_patch(patch)\n",
    "\n",
    "ax.set_title('d) invalid')\n",
    "\n",
    "set_limits(ax, -1, 3, -1, 3)\n",
    "\n",
    "pyplot.show()"
   ]
  }
 ],
 "metadata": {
  "kernelspec": {
   "display_name": "Python 3",
   "language": "python",
   "name": "python3"
  },
  "language_info": {
   "codemirror_mode": {
    "name": "ipython",
    "version": 3
   },
   "file_extension": ".py",
   "mimetype": "text/x-python",
   "name": "python",
   "nbconvert_exporter": "python",
   "pygments_lexer": "ipython3",
   "version": "3.7.3"
  }
 },
 "nbformat": 4,
 "nbformat_minor": 2
}
